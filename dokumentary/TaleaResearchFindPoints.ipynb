{
 "cells": [
  {
   "cell_type": "code",
   "execution_count": 8,
   "metadata": {},
   "outputs": [
    {
     "name": "stdout",
     "output_type": "stream",
     "text": [
      "< cv2.CascadeClassifier 0000020DD376CEF0>\n",
      "[[384  99 337 673]]\n",
      "Punkt innerhalb der Person: (552, 435)\n"
     ]
    }
   ],
   "source": [
    "import numpy as np\n",
    "import cv2\n",
    "\n",
    "\n",
    "# Lade das Bild\n",
    "image_path = 'pictures/Bild3.jpg'\n",
    "image = cv2.imread(image_path)\n",
    "\n",
    "# Konvertiere das Bild zu Graustufen\n",
    "gray_image = cv2.cvtColor(image, cv2.COLOR_BGR2GRAY)\n",
    "\n",
    "# Verwende einen vorab trainierten Haar Cascade Classifier für die Personenerkennung\n",
    "# Du kannst einen passenden Classifier herunterladen oder trainieren\n",
    "# Beispiel: https://github.com/opencv/opencv/blob/master/data/haarcascades/haarcascade_fullbody.xml\n",
    "cascade_path = 'haarcascade_fullbody.xml'\n",
    "body_cascade = cv2.CascadeClassifier(cascade_path)\n",
    "\n",
    "print(body_cascade)\n",
    "\n",
    "# Wende den Classifier auf das Bild an\n",
    "bodies = body_cascade.detectMultiScale(gray_image, scaleFactor=1.1, minNeighbors=5, minSize=(30, 30))\n",
    "\n",
    "print(bodies)\n",
    "\n",
    "# Iteriere über die erkannten Personen und speichere die Punkte innerhalb jeder Person\n",
    "for (x, y, w, h) in bodies:\n",
    "    # Hier kannst du die Punkte innerhalb der Person extrahieren und weiter verarbeiten\n",
    "    # Beispiel: Punkte in der Mitte der Person\n",
    "    center_x = x + w // 2\n",
    "    center_y = y + h // 2\n",
    "    print(f'Punkt innerhalb der Person: ({center_x}, {center_y})')"
   ]
  }
 ],
 "metadata": {
  "kernelspec": {
   "display_name": "Python 3",
   "language": "python",
   "name": "python3"
  },
  "language_info": {
   "codemirror_mode": {
    "name": "ipython",
    "version": 3
   },
   "file_extension": ".py",
   "mimetype": "text/x-python",
   "name": "python",
   "nbconvert_exporter": "python",
   "pygments_lexer": "ipython3",
   "version": "3.12.0"
  }
 },
 "nbformat": 4,
 "nbformat_minor": 2
}
